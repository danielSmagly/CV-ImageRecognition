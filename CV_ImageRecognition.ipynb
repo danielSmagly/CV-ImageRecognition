{
  "cells": [
    {
      "cell_type": "markdown",
      "metadata": {
        "id": "C-BeOChlfOfY"
      },
      "source": [
        "## Computer Vision Project using GPU and Transfer Learning"
      ]
    },
    {
      "cell_type": "code",
      "execution_count": null,
      "metadata": {
        "id": "FOddo2bbfOfb"
      },
      "outputs": [],
      "source": [
        "from collections.abc import Sequence\n",
        "from sklearn import preprocessing\n",
        "import matplotlib.pyplot as plt\n",
        "import numpy as np\n",
        "import pandas as pd\n",
        "import shutil\n",
        "import os\n",
        "\n",
        "\n",
        "# Encode text values to dummy variables(i.e. [1,0,0],[0,1,0],[0,0,1] for red,green,blue)\n",
        "def encode_text_dummy(df, name):\n",
        "    dummies = pd.get_dummies(df[name])\n",
        "    for x in dummies.columns:\n",
        "        dummy_name = \"{}-{}\".format(name, x)\n",
        "        df[dummy_name] = dummies[x]\n",
        "    df.drop(name, axis=1, inplace=True)\n",
        "\n",
        "\n",
        "# Encode text values to indexes(i.e. [1],[2],[3] for red,green,blue).\n",
        "def encode_text_index(df, name):\n",
        "    le = preprocessing.LabelEncoder()\n",
        "    df[name] = le.fit_transform(df[name])\n",
        "    return le.classes_\n",
        "\n",
        "\n",
        "# Encode a numeric column as zscores\n",
        "def encode_numeric_zscore(df, name, mean=None, sd=None):\n",
        "    if mean is None:\n",
        "        mean = df[name].mean()\n",
        "\n",
        "    if sd is None:\n",
        "        sd = df[name].std()\n",
        "\n",
        "    df[name] = (df[name] - mean) / sd\n",
        "\n",
        "\n",
        "# Convert all missing values in the specified column to the median\n",
        "def missing_median(df, name):\n",
        "    med = df[name].median()\n",
        "    df[name] = df[name].fillna(med)\n",
        "\n",
        "\n",
        "# Convert all missing values in the specified column to the default\n",
        "def missing_default(df, name, default_value):\n",
        "    df[name] = df[name].fillna(default_value)\n",
        "\n",
        "\n",
        "# Convert a Pandas dataframe to the x,y inputs that TensorFlow needs\n",
        "def to_xy(df, target):\n",
        "    result = []\n",
        "    for x in df.columns:\n",
        "        if x != target:\n",
        "            result.append(x)\n",
        "    # find out the type of the target column. \n",
        "    target_type = df[target].dtypes\n",
        "    target_type = target_type[0] if isinstance(target_type, Sequence) else target_type\n",
        "    # Encode to int for classification, float otherwise. TensorFlow likes 32 bits.\n",
        "    if target_type in (np.int64, np.int32):\n",
        "        # Classification\n",
        "        dummies = pd.get_dummies(df[target])\n",
        "        return df[result].values.astype(np.float32), dummies.values.astype(np.float32)\n",
        "    else:\n",
        "        # Regression\n",
        "        return df[result].values.astype(np.float32), df[target].values.astype(np.float32)\n",
        "\n",
        "# Nicely formatted time string\n",
        "def hms_string(sec_elapsed):\n",
        "    h = int(sec_elapsed / (60 * 60))\n",
        "    m = int((sec_elapsed % (60 * 60)) / 60)\n",
        "    s = sec_elapsed % 60\n",
        "    return \"{}:{:>02}:{:>05.2f}\".format(h, m, s)\n",
        "\n",
        "\n",
        "# Regression chart.\n",
        "def chart_regression(pred,y,sort=True):\n",
        "    t = pd.DataFrame({'pred' : pred, 'y' : y.flatten()})\n",
        "    if sort:\n",
        "        t.sort_values(by=['y'],inplace=True)\n",
        "    a = plt.plot(t['y'].tolist(),label='expected')\n",
        "    b = plt.plot(t['pred'].tolist(),label='prediction')\n",
        "    plt.ylabel('output')\n",
        "    plt.legend()\n",
        "    plt.show()\n",
        "\n",
        "# Remove all rows where the specified column is +/- sd standard deviations\n",
        "def remove_outliers(df, name, sd):\n",
        "    drop_rows = df.index[(np.abs(df[name] - df[name].mean()) >= (sd * df[name].std()))]\n",
        "    df.drop(drop_rows, axis=0, inplace=True)\n",
        "\n",
        "\n",
        "# Encode a column to a range between normalized_low and normalized_high.\n",
        "def encode_numeric_range(df, name, normalized_low=-1, normalized_high=1,\n",
        "                         data_low=None, data_high=None):\n",
        "    if data_low is None:\n",
        "        data_low = min(df[name])\n",
        "        data_high = max(df[name])\n",
        "\n",
        "    df[name] = ((df[name] - data_low) / (data_high - data_low)) \\\n",
        "               * (normalized_high - normalized_low) + normalized_low\n"
      ]
    },
    {
      "cell_type": "markdown",
      "metadata": {
        "id": "qU8FIYWRVXM1"
      },
      "source": [
        "## Switch and Verify GPU (For Google Colab)"
      ]
    },
    {
      "cell_type": "code",
      "execution_count": null,
      "metadata": {
        "colab": {
          "base_uri": "https://localhost:8080/",
          "height": 37
        },
        "id": "1s9pBa09U_zJ",
        "outputId": "54d688d8-8254-483d-b4db-94d1424c172b"
      },
      "outputs": [
        {
          "output_type": "execute_result",
          "data": {
            "text/plain": [
              "'/device:GPU:0'"
            ],
            "application/vnd.google.colaboratory.intrinsic+json": {
              "type": "string"
            }
          },
          "metadata": {},
          "execution_count": 3
        }
      ],
      "source": [
        "import tensorflow as tf\n",
        "\n",
        "tf.test.gpu_device_name()"
      ]
    },
    {
      "cell_type": "markdown",
      "metadata": {
        "collapsed": true,
        "id": "Kv39g9StfOff"
      },
      "source": [
        "## Image classification without transfer learning\n"
      ]
    },
    {
      "cell_type": "code",
      "execution_count": null,
      "metadata": {
        "id": "0495-SoMfOfg"
      },
      "outputs": [],
      "source": [
        "#  Load cifar-10 data and split it to training and test\n",
        "\n",
        "from tensorflow.keras.datasets import cifar10\n",
        "\n",
        "from tensorflow.keras.models import Sequential\n",
        "from tensorflow.keras.layers import Dense, Dropout, Activation, Flatten\n",
        "from tensorflow.keras.layers import Conv2D, MaxPooling2D\n",
        "\n",
        "num_classes = 10\n",
        "\n",
        "# The data split between train and test sets:\n",
        "(x_train, y_train), (x_test, y_test) = cifar10.load_data()\n"
      ]
    },
    {
      "cell_type": "code",
      "execution_count": null,
      "metadata": {
        "id": "9DWyVv_efOfj",
        "colab": {
          "base_uri": "https://localhost:8080/"
        },
        "outputId": "92e61d9c-e9c5-46b3-f43c-ce2899f71205"
      },
      "outputs": [
        {
          "output_type": "stream",
          "name": "stdout",
          "text": [
            "x_train shape: (50000, 32, 32, 3)\n",
            "y_train shape: (50000, 1)\n",
            "x_test shape: (10000, 32, 32, 3)\n",
            "y_test shape: (10000, 1)\n",
            "50000 train samples\n",
            "10000 test samples\n"
          ]
        }
      ],
      "source": [
        "# print out data shape\n",
        "\n",
        "print('x_train shape:', x_train.shape)\n",
        "print('y_train shape:', y_train.shape)\n",
        "\n",
        "print('x_test shape:', x_test.shape)\n",
        "print('y_test shape:', y_test.shape)\n",
        "\n",
        "\n",
        "print(x_train.shape[0], 'train samples')\n",
        "print(x_test.shape[0], 'test samples')"
      ]
    },
    {
      "cell_type": "code",
      "execution_count": null,
      "metadata": {
        "id": "5_Z_IKevu2Ji",
        "colab": {
          "base_uri": "https://localhost:8080/"
        },
        "outputId": "32105dcf-6422-4317-d349-e8b7a72d7296"
      },
      "outputs": [
        {
          "output_type": "execute_result",
          "data": {
            "text/plain": [
              "array([[[100, 168, 231],\n",
              "        [100, 168, 229],\n",
              "        [101, 167, 230],\n",
              "        ...,\n",
              "        [ 95, 165, 231],\n",
              "        [ 94, 165, 228],\n",
              "        [ 95, 167, 229]],\n",
              "\n",
              "       [[103, 170, 230],\n",
              "        [103, 168, 228],\n",
              "        [104, 168, 226],\n",
              "        ...,\n",
              "        [ 97, 167, 229],\n",
              "        [ 97, 166, 227],\n",
              "        [ 97, 168, 229]],\n",
              "\n",
              "       [[107, 174, 233],\n",
              "        [106, 172, 230],\n",
              "        [106, 173, 229],\n",
              "        ...,\n",
              "        [100, 170, 230],\n",
              "        [100, 170, 230],\n",
              "        [101, 172, 232]],\n",
              "\n",
              "       ...,\n",
              "\n",
              "       [[165, 178, 177],\n",
              "        [159, 170, 167],\n",
              "        [167, 177, 170],\n",
              "        ...,\n",
              "        [ 75, 117, 154],\n",
              "        [ 75, 120, 157],\n",
              "        [ 72, 120, 158]],\n",
              "\n",
              "       [[158, 174, 172],\n",
              "        [173, 186, 182],\n",
              "        [182, 193, 188],\n",
              "        ...,\n",
              "        [ 76, 119, 154],\n",
              "        [ 75, 119, 153],\n",
              "        [ 77, 121, 154]],\n",
              "\n",
              "       [[161, 176, 174],\n",
              "        [162, 176, 172],\n",
              "        [160, 171, 169],\n",
              "        ...,\n",
              "        [ 98, 137, 167],\n",
              "        [129, 160, 183],\n",
              "        [162, 185, 202]]], dtype=uint8)"
            ]
          },
          "metadata": {},
          "execution_count": 6
        }
      ],
      "source": [
        "# print out a random image in x_train as numpy array\n",
        "x_train[15]"
      ]
    },
    {
      "cell_type": "code",
      "execution_count": null,
      "metadata": {
        "id": "cbcMvRhqvWAc",
        "colab": {
          "base_uri": "https://localhost:8080/",
          "height": 283
        },
        "outputId": "d0174636-63f8-427e-ce85-23b600ed1d07"
      },
      "outputs": [
        {
          "output_type": "execute_result",
          "data": {
            "text/plain": [
              "<matplotlib.image.AxesImage at 0x7f02a01e0590>"
            ]
          },
          "metadata": {},
          "execution_count": 7
        },
        {
          "output_type": "display_data",
          "data": {
            "text/plain": [
              "<Figure size 432x288 with 1 Axes>"
            ],
            "image/png": "[encoded data removed]"
          },
          "metadata": {
            "needs_background": "light"
          }
        }
      ],
      "source": [
        "# print it out as image\n",
        "\n",
        "import matplotlib.pyplot as plt\n",
        "\n",
        "plt.imshow(x_train[15])"
      ]
    },
    {
      "cell_type": "code",
      "execution_count": null,
      "metadata": {
        "id": "qMwUTdqp0rUJ"
      },
      "outputs": [],
      "source": [
        "# Convert y_train from 2D to 1D \n",
        "\n",
        "y_train = y_train.reshape(50000)\n"
      ]
    },
    {
      "cell_type": "code",
      "execution_count": null,
      "metadata": {
        "id": "ojvUNZgG0xVe",
        "colab": {
          "base_uri": "https://localhost:8080/"
        },
        "outputId": "079754c1-19ee-4df5-8311-bb7794540a54"
      },
      "outputs": [
        {
          "output_type": "execute_result",
          "data": {
            "text/plain": [
              "(50000,)"
            ]
          },
          "metadata": {},
          "execution_count": 9
        }
      ],
      "source": [
        "y_train.shape"
      ]
    },
    {
      "cell_type": "code",
      "execution_count": null,
      "metadata": {
        "id": "HcrolrznfOf2"
      },
      "outputs": [],
      "source": [
        "# Convert y_test from 2D to 1D \n",
        "\n",
        "y_test = y_test.reshape(10000)\n"
      ]
    },
    {
      "cell_type": "code",
      "execution_count": null,
      "metadata": {
        "id": "iT3IYTNqfOf6",
        "colab": {
          "base_uri": "https://localhost:8080/"
        },
        "outputId": "3239ffac-faec-4f38-a599-b155c48c580f"
      },
      "outputs": [
        {
          "output_type": "execute_result",
          "data": {
            "text/plain": [
              "(10000,)"
            ]
          },
          "metadata": {},
          "execution_count": 11
        }
      ],
      "source": [
        "y_test.shape"
      ]
    },
    {
      "cell_type": "code",
      "execution_count": null,
      "metadata": {
        "id": "5-lWtPlHfOf9"
      },
      "outputs": [],
      "source": [
        "# Convert class vectors to one hot format\n",
        "\n",
        "y_train = tf.keras.utils.to_categorical(y_train, num_classes)\n",
        "y_test = tf.keras.utils.to_categorical(y_test, num_classes)"
      ]
    },
    {
      "cell_type": "code",
      "execution_count": null,
      "metadata": {
        "id": "DFzHf8QefOgC"
      },
      "outputs": [],
      "source": [
        "# Convert data from int to float and normalize it\n",
        "\n",
        "x_train = x_train.astype('float32')\n",
        "x_test = x_test.astype('float32')\n",
        "\n",
        "x_train /= 255\n",
        "x_test /= 255"
      ]
    },
    {
      "cell_type": "markdown",
      "metadata": {
        "id": "QXXjBVW1lDt1"
      },
      "source": [
        "###  CNN model initialization\n",
        "\n",
        "\n"
      ]
    },
    {
      "cell_type": "code",
      "execution_count": null,
      "metadata": {
        "id": "grVEwQfQfOgE"
      },
      "outputs": [],
      "source": [
        "model = Sequential()\n",
        "\n",
        "input_shape = x_train.shape[1:]\n",
        "batch_size = 64\n",
        "\n",
        "model.add(Conv2D(32, (3, 3), padding='same', input_shape=input_shape, activation='relu'))\n",
        "\n",
        "model.add(MaxPooling2D(pool_size=(2, 2)))\n",
        "\n",
        "model.add(Dropout(0.25))\n",
        "\n",
        "model.add(Conv2D(64, (3, 3), padding='same', activation='relu'))\n",
        "\n",
        "model.add(MaxPooling2D(pool_size=(2, 2)))\n",
        "\n",
        "model.add(Dropout(0.25))\n",
        "\n",
        "model.add(Conv2D(128, (3, 3), padding='same', activation='relu'))\n",
        "\n",
        "model.add(MaxPooling2D(pool_size=(2, 2)))\n",
        "\n",
        "model.add(Dropout(0.25))\n",
        "\n",
        "model.add(Flatten())\n",
        "\n",
        "model.add(Dense(450, activation='relu'))\n",
        "\n",
        "model.add(Dropout(0.5))\n",
        "\n",
        "model.add(Dense(10, activation='softmax'))\n",
        "\n"
      ]
    },
    {
      "cell_type": "code",
      "execution_count": null,
      "metadata": {
        "id": "FekC4kgffOgG",
        "colab": {
          "base_uri": "https://localhost:8080/"
        },
        "outputId": "e67358b1-7627-4e91-9900-6a63d7d8c1fe"
      },
      "outputs": [
        {
          "output_type": "stream",
          "name": "stdout",
          "text": [
            "Model: \"sequential\"\n",
            "_________________________________________________________________\n",
            " Layer (type)                Output Shape              Param #   \n",
            "=================================================================\n",
            " conv2d (Conv2D)             (None, 32, 32, 32)        896       \n",
            "                                                                 \n",
            " max_pooling2d (MaxPooling2D  (None, 16, 16, 32)       0         \n",
            " )                                                               \n",
            "                                                                 \n",
            " dropout (Dropout)           (None, 16, 16, 32)        0         \n",
            "                                                                 \n",
            " conv2d_1 (Conv2D)           (None, 16, 16, 64)        18496     \n",
            "                                                                 \n",
            " max_pooling2d_1 (MaxPooling  (None, 8, 8, 64)         0         \n",
            " 2D)                                                             \n",
            "                                                                 \n",
            " dropout_1 (Dropout)         (None, 8, 8, 64)          0         \n",
            "                                                                 \n",
            " conv2d_2 (Conv2D)           (None, 8, 8, 128)         73856     \n",
            "                                                                 \n",
            " max_pooling2d_2 (MaxPooling  (None, 4, 4, 128)        0         \n",
            " 2D)                                                             \n",
            "                                                                 \n",
            " dropout_2 (Dropout)         (None, 4, 4, 128)         0         \n",
            "                                                                 \n",
            " flatten (Flatten)           (None, 2048)              0         \n",
            "                                                                 \n",
            " dense (Dense)               (None, 450)               922050    \n",
            "                                                                 \n",
            " dropout_3 (Dropout)         (None, 450)               0         \n",
            "                                                                 \n",
            " dense_1 (Dense)             (None, 10)                4510      \n",
            "                                                                 \n",
            "=================================================================\n",
            "Total params: 1,019,808\n",
            "Trainable params: 1,019,808\n",
            "Non-trainable params: 0\n",
            "_________________________________________________________________\n"
          ]
        }
      ],
      "source": [
        "# Print model summary\n",
        "\n",
        "model.summary()"
      ]
    },
    {
      "cell_type": "markdown",
      "metadata": {
        "id": "uVNwHr_AmKJi"
      },
      "source": [
        "### Model compile, fit and training"
      ]
    },
    {
      "cell_type": "code",
      "execution_count": null,
      "metadata": {
        "id": "QUxCqaaZfOgI",
        "colab": {
          "base_uri": "https://localhost:8080/"
        },
        "outputId": "7db38e6a-ab98-4c6c-b971-d373d1750e4d"
      },
      "outputs": [
        {
          "output_type": "stream",
          "name": "stderr",
          "text": [
            "/usr/local/lib/python3.7/dist-packages/keras/optimizers/optimizer_v2/adam.py:110: UserWarning: The `lr` argument is deprecated, use `learning_rate` instead.\n",
            "  super(Adam, self).__init__(name, **kwargs)\n"
          ]
        },
        {
          "output_type": "stream",
          "name": "stdout",
          "text": [
            "Epoch 1/50\n",
            "782/782 - 11s - loss: 1.6331 - accuracy: 0.4005 - val_loss: 1.2940 - val_accuracy: 0.5384 - 11s/epoch - 14ms/step\n",
            "Epoch 2/50\n",
            "782/782 - 4s - loss: 1.2640 - accuracy: 0.5447 - val_loss: 1.0879 - val_accuracy: 0.6240 - 4s/epoch - 5ms/step\n",
            "Epoch 3/50\n",
            "782/782 - 4s - loss: 1.1143 - accuracy: 0.6039 - val_loss: 0.9825 - val_accuracy: 0.6542 - 4s/epoch - 6ms/step\n",
            "Epoch 4/50\n",
            "782/782 - 4s - loss: 1.0184 - accuracy: 0.6394 - val_loss: 0.9220 - val_accuracy: 0.6699 - 4s/epoch - 5ms/step\n",
            "Epoch 5/50\n",
            "782/782 - 4s - loss: 0.9400 - accuracy: 0.6676 - val_loss: 0.8638 - val_accuracy: 0.7037 - 4s/epoch - 5ms/step\n",
            "Epoch 6/50\n",
            "782/782 - 4s - loss: 0.8770 - accuracy: 0.6911 - val_loss: 0.7818 - val_accuracy: 0.7274 - 4s/epoch - 5ms/step\n",
            "Epoch 7/50\n",
            "782/782 - 4s - loss: 0.8409 - accuracy: 0.7023 - val_loss: 0.7772 - val_accuracy: 0.7321 - 4s/epoch - 5ms/step\n",
            "Epoch 8/50\n",
            "782/782 - 4s - loss: 0.8069 - accuracy: 0.7180 - val_loss: 0.7696 - val_accuracy: 0.7314 - 4s/epoch - 5ms/step\n",
            "Epoch 9/50\n",
            "782/782 - 5s - loss: 0.7771 - accuracy: 0.7264 - val_loss: 0.7006 - val_accuracy: 0.7595 - 5s/epoch - 6ms/step\n",
            "Epoch 10/50\n",
            "782/782 - 4s - loss: 0.7462 - accuracy: 0.7368 - val_loss: 0.7037 - val_accuracy: 0.7566 - 4s/epoch - 5ms/step\n",
            "Epoch 11/50\n",
            "782/782 - 4s - loss: 0.7278 - accuracy: 0.7441 - val_loss: 0.6856 - val_accuracy: 0.7641 - 4s/epoch - 5ms/step\n",
            "Epoch 12/50\n",
            "782/782 - 4s - loss: 0.7011 - accuracy: 0.7513 - val_loss: 0.6904 - val_accuracy: 0.7641 - 4s/epoch - 5ms/step\n",
            "Epoch 13/50\n",
            "782/782 - 4s - loss: 0.6905 - accuracy: 0.7560 - val_loss: 0.7190 - val_accuracy: 0.7536 - 4s/epoch - 5ms/step\n",
            "Epoch 14/50\n",
            "782/782 - 4s - loss: 0.6673 - accuracy: 0.7653 - val_loss: 0.7279 - val_accuracy: 0.7502 - 4s/epoch - 5ms/step\n",
            "Epoch 15/50\n",
            "782/782 - 4s - loss: 0.6437 - accuracy: 0.7727 - val_loss: 0.6717 - val_accuracy: 0.7728 - 4s/epoch - 5ms/step\n",
            "Epoch 16/50\n",
            "782/782 - 4s - loss: 0.6393 - accuracy: 0.7741 - val_loss: 0.6614 - val_accuracy: 0.7744 - 4s/epoch - 5ms/step\n",
            "Epoch 17/50\n",
            "782/782 - 4s - loss: 0.6243 - accuracy: 0.7798 - val_loss: 0.6387 - val_accuracy: 0.7833 - 4s/epoch - 5ms/step\n",
            "Epoch 18/50\n",
            "782/782 - 4s - loss: 0.6076 - accuracy: 0.7857 - val_loss: 0.6403 - val_accuracy: 0.7789 - 4s/epoch - 5ms/step\n",
            "Epoch 19/50\n",
            "782/782 - 4s - loss: 0.5961 - accuracy: 0.7900 - val_loss: 0.6329 - val_accuracy: 0.7823 - 4s/epoch - 5ms/step\n",
            "Epoch 20/50\n",
            "782/782 - 4s - loss: 0.5924 - accuracy: 0.7902 - val_loss: 0.6758 - val_accuracy: 0.7724 - 4s/epoch - 5ms/step\n",
            "Epoch 21/50\n",
            "782/782 - 4s - loss: 0.5817 - accuracy: 0.7943 - val_loss: 0.6906 - val_accuracy: 0.7680 - 4s/epoch - 5ms/step\n",
            "Epoch 22/50\n",
            "782/782 - 4s - loss: 0.5642 - accuracy: 0.8002 - val_loss: 0.6379 - val_accuracy: 0.7825 - 4s/epoch - 5ms/step\n",
            "Epoch 23/50\n",
            "782/782 - 4s - loss: 0.5582 - accuracy: 0.8014 - val_loss: 0.6234 - val_accuracy: 0.7907 - 4s/epoch - 5ms/step\n",
            "Epoch 24/50\n",
            "782/782 - 4s - loss: 0.5529 - accuracy: 0.8042 - val_loss: 0.6362 - val_accuracy: 0.7855 - 4s/epoch - 5ms/step\n",
            "Epoch 25/50\n",
            "782/782 - 4s - loss: 0.5431 - accuracy: 0.8076 - val_loss: 0.6442 - val_accuracy: 0.7839 - 4s/epoch - 5ms/step\n",
            "Epoch 26/50\n",
            "782/782 - 4s - loss: 0.5369 - accuracy: 0.8094 - val_loss: 0.6132 - val_accuracy: 0.7950 - 4s/epoch - 5ms/step\n",
            "Epoch 27/50\n",
            "782/782 - 4s - loss: 0.5249 - accuracy: 0.8132 - val_loss: 0.6069 - val_accuracy: 0.7952 - 4s/epoch - 5ms/step\n",
            "Epoch 28/50\n",
            "782/782 - 4s - loss: 0.5206 - accuracy: 0.8155 - val_loss: 0.6053 - val_accuracy: 0.7964 - 4s/epoch - 5ms/step\n",
            "Epoch 29/50\n",
            "782/782 - 4s - loss: 0.5042 - accuracy: 0.8208 - val_loss: 0.6372 - val_accuracy: 0.7892 - 4s/epoch - 5ms/step\n",
            "Epoch 30/50\n",
            "782/782 - 4s - loss: 0.5026 - accuracy: 0.8210 - val_loss: 0.6106 - val_accuracy: 0.7953 - 4s/epoch - 5ms/step\n",
            "Epoch 31/50\n",
            "782/782 - 4s - loss: 0.4963 - accuracy: 0.8241 - val_loss: 0.6419 - val_accuracy: 0.7886 - 4s/epoch - 5ms/step\n",
            "Epoch 32/50\n",
            "782/782 - 4s - loss: 0.4954 - accuracy: 0.8245 - val_loss: 0.6255 - val_accuracy: 0.7987 - 4s/epoch - 5ms/step\n",
            "Epoch 33/50\n",
            "782/782 - 4s - loss: 0.4903 - accuracy: 0.8260 - val_loss: 0.6075 - val_accuracy: 0.7997 - 4s/epoch - 5ms/step\n",
            "Epoch 33: early stopping\n",
            "Elapsed time: 0:02:19.66\n"
          ]
        }
      ],
      "source": [
        "from tensorflow.keras.optimizers import Adam\n",
        "from tensorflow.keras.callbacks import EarlyStopping, ModelCheckpoint\n",
        "\n",
        "\n",
        "model.compile(loss=tf.keras.losses.categorical_crossentropy, optimizer=Adam(lr=0.001, decay=1e-5), metrics=['accuracy'])\n",
        "\n",
        "monitor = EarlyStopping(monitor='val_loss', min_delta=1e-3, patience=5, verbose=1, mode='auto')\n",
        "\n",
        "checkpointer = ModelCheckpoint(filepath=\"dnn/best_weights.hdf5\", verbose=0, save_best_only=True)\n",
        "\n",
        "import time\n",
        "start_time = time.time()\n",
        "\n",
        "model.fit(x_train, y_train, batch_size=batch_size, epochs=50, verbose=2, \n",
        "          validation_data=(x_test, y_test), callbacks=[monitor,checkpointer])\n",
        "\n",
        "elapsed_time = time.time() - start_time\n",
        "print(\"Elapsed time: {}\".format(hms_string(elapsed_time)))"
      ]
    },
    {
      "cell_type": "markdown",
      "metadata": {
        "id": "Xigd26XOoU-F"
      },
      "source": [
        "### Precision, Recall,  F1 score, and classification_report\n",
        "\n"
      ]
    },
    {
      "cell_type": "code",
      "execution_count": null,
      "metadata": {
        "id": "2_92T0bsfOgQ",
        "colab": {
          "base_uri": "https://localhost:8080/"
        },
        "outputId": "acc6f8f3-9207-4d4b-f31d-429bdf1c7318"
      },
      "outputs": [
        {
          "output_type": "stream",
          "name": "stdout",
          "text": [
            "Test loss: 0.60746169090271\n",
            "Test accuracy: 0.7997000217437744\n",
            "313/313 [==============================] - 1s 2ms/step\n",
            "Accuracy: 0.7997\n",
            "Averaged F1: 0.7982263812646532\n",
            "              precision    recall  f1-score   support\n",
            "\n",
            "           0       0.83      0.84      0.84      1000\n",
            "           1       0.91      0.90      0.91      1000\n",
            "           2       0.76      0.69      0.72      1000\n",
            "           3       0.64      0.62      0.63      1000\n",
            "           4       0.73      0.83      0.77      1000\n",
            "           5       0.76      0.64      0.70      1000\n",
            "           6       0.78      0.88      0.83      1000\n",
            "           7       0.87      0.82      0.84      1000\n",
            "           8       0.87      0.90      0.88      1000\n",
            "           9       0.86      0.86      0.86      1000\n",
            "\n",
            "    accuracy                           0.80     10000\n",
            "   macro avg       0.80      0.80      0.80     10000\n",
            "weighted avg       0.80      0.80      0.80     10000\n",
            "\n"
          ]
        }
      ],
      "source": [
        "from sklearn import metrics\n",
        "\n",
        "score = model.evaluate(x_test, y_test, verbose=0)\n",
        "\n",
        "print('Test loss: {}'.format(score[0]))\n",
        "print('Test accuracy: {}'.format(score[1]))\n",
        "\n",
        "y_true = np.argmax(y_test,axis=1)\n",
        "pred = model.predict(x_test)\n",
        "pred = np.argmax(pred,axis=1)\n",
        "\n",
        "\n",
        "score = metrics.accuracy_score(y_true, pred)\n",
        "print('Accuracy: {}'.format(score))\n",
        "\n",
        "f1 = metrics.f1_score(y_true, pred, average='weighted')\n",
        "print('Averaged F1: {}'.format(f1))\n",
        "   \n",
        "print(metrics.classification_report(y_true, pred))\n"
      ]
    },
    {
      "cell_type": "code",
      "execution_count": null,
      "metadata": {
        "id": "fFryw76VtOie",
        "colab": {
          "base_uri": "https://localhost:8080/",
          "height": 300
        },
        "outputId": "54b2ea0f-1fb6-4437-f18a-e0529b97cb63"
      },
      "outputs": [
        {
          "output_type": "stream",
          "name": "stdout",
          "text": [
            "Image (#11): \n",
            "Predicted: horse || Actual: horse\n"
          ]
        },
        {
          "output_type": "display_data",
          "data": {
            "text/plain": [
              "<Figure size 432x288 with 1 Axes>"
            ],
            "image/png": "[encoded data removed]"
          },
          "metadata": {
            "needs_background": "light"
          }
        }
      ],
      "source": [
        "m = {0: 'frog', 1: 'cat', 2: 'dog', 3: 'automobile', 4: 'deer', 5: 'bird', 6: 'airplane', 7: 'truck', 8: 'ship', 9: 'horse'}\n",
        "\n",
        "s_img1, s_img2, s_img3, s_img4 = 11, 125, 3565, 9797\n",
        "img1, img2, img3, img4 = x_train[s_img1], x_train[s_img2], x_train[s_img3], x_train[s_img4]\n",
        "\n",
        "plt.imshow(img1)\n",
        "print(\"Image (#{}): \".format(s_img1))\n",
        "print(\"Predicted: {} || Actual: {}\".format(m.get(pred[s_img1]), m.get(y_true[s_img1])))\n"
      ]
    },
    {
      "cell_type": "code",
      "source": [
        "plt.imshow(img2)\n",
        "print(\"Image (#{}): \".format(s_img2))\n",
        "print(\"Predicted: {} || Actual: {}\".format(m.get(pred[s_img2]), m.get(y_true[s_img2])))"
      ],
      "metadata": {
        "colab": {
          "base_uri": "https://localhost:8080/",
          "height": 300
        },
        "id": "ulTeHxGzA-Ay",
        "outputId": "e7165c6e-0410-42cf-b6c6-aeb4e1945d5a"
      },
      "execution_count": null,
      "outputs": [
        {
          "output_type": "stream",
          "name": "stdout",
          "text": [
            "Image (#125): \n",
            "Predicted: dog || Actual: frog\n"
          ]
        },
        {
          "output_type": "display_data",
          "data": {
            "text/plain": [
              "<Figure size 432x288 with 1 Axes>"
            ],
            "image/png": "[encoded data removed]"
          },
          "metadata": {
            "needs_background": "light"
          }
        }
      ]
    },
    {
      "cell_type": "code",
      "source": [
        "plt.imshow(img3)\n",
        "print(\"Image (#{}): \".format(s_img3))\n",
        "print(\"Predicted: {} || Actual: {}\".format(m.get(pred[s_img3]), m.get(y_true[s_img3])))"
      ],
      "metadata": {
        "colab": {
          "base_uri": "https://localhost:8080/",
          "height": 300
        },
        "id": "rLwExrLLA-tT",
        "outputId": "600a143d-0722-4449-b73e-8093131bd421"
      },
      "execution_count": null,
      "outputs": [
        {
          "output_type": "stream",
          "name": "stdout",
          "text": [
            "Image (#3565): \n",
            "Predicted: cat || Actual: cat\n"
          ]
        },
        {
          "output_type": "display_data",
          "data": {
            "text/plain": [
              "<Figure size 432x288 with 1 Axes>"
            ],
            "image/png": "[encoded data removed]"
          },
          "metadata": {
            "needs_background": "light"
          }
        }
      ]
    },
    {
      "cell_type": "markdown",
      "metadata": {
        "id": "MgBnw9dRfOgS"
      },
      "source": [
        "\n",
        "\n",
        "## CNN model with Transfer Learning"
      ]
    },
    {
      "cell_type": "code",
      "execution_count": null,
      "metadata": {
        "id": "H9rvtqrsfOgT",
        "colab": {
          "base_uri": "https://localhost:8080/"
        },
        "outputId": "bf77072e-9ccd-429e-b74c-1f60718aa36c"
      },
      "outputs": [
        {
          "output_type": "stream",
          "name": "stdout",
          "text": [
            "x_train shape: (50000, 32, 32, 3)\n",
            "y_train shape: (50000, 1)\n",
            "x_test shape: (10000, 32, 32, 3)\n",
            "y_test shape: (10000, 1)\n",
            "50000 train samples\n",
            "10000 test samples\n"
          ]
        }
      ],
      "source": [
        "# We load data again.   The data split between train and test sets:\n",
        "\n",
        "(x_train, y_train), (x_test, y_test) = cifar10.load_data()\n",
        "\n",
        "(x_train, y_train), (x_test, y_test) = (x_train, y_train), (x_test, y_test)\n",
        "\n",
        "print('x_train shape:', x_train.shape)\n",
        "print('y_train shape:', y_train.shape)\n",
        "\n",
        "print('x_test shape:', x_test.shape)\n",
        "print('y_test shape:', y_test.shape)\n",
        "\n",
        "\n",
        "print(x_train.shape[0], 'train samples')\n",
        "print(x_test.shape[0], 'test samples')"
      ]
    },
    {
      "cell_type": "code",
      "execution_count": null,
      "metadata": {
        "id": "XWwBKsh-fOgX"
      },
      "outputs": [],
      "source": [
        "from skimage.transform import resize, rescale\n",
        "\n",
        "x_train_reshaped = np.zeros(shape=(x_train.shape[0], 64, 64, 3))\n",
        "\n",
        "for i in range(x_train_reshaped.shape[0]):\n",
        "    x_train_reshaped[i] = np.zeros(shape=(64, 64, 3))\n",
        "    #print(x_train_reshaped[i].shape)\n",
        "    x_train_reshaped[i] = resize(x_train[i], (x_train[i].shape[0] * 2, x_train[i].shape[1] * 2),\n",
        "                       anti_aliasing=True)"
      ]
    },
    {
      "cell_type": "code",
      "execution_count": null,
      "metadata": {
        "id": "0s0-oaKDfOgf"
      },
      "outputs": [],
      "source": [
        "x_test_reshaped = np.zeros(shape=(x_test.shape[0], 64, 64, 3))\n",
        "\n",
        "for i in range(x_test_reshaped.shape[0]):\n",
        "    x_test_reshaped[i] = np.zeros(shape=(64, 64, 3))\n",
        "    #print(x_test_reshaped[i].shape)\n",
        "    x_test_reshaped[i] = resize(x_test[i], (x_test[i].shape[0] * 2, x_test[i].shape[1] * 2),\n",
        "                       anti_aliasing=True)"
      ]
    },
    {
      "cell_type": "code",
      "execution_count": null,
      "metadata": {
        "id": "fQuVaf2pkRdr"
      },
      "outputs": [],
      "source": [
        "y_train, y_test = y_train.reshape(y_train.shape[0]), y_test.reshape(y_test.shape[0])\n",
        "\n",
        "y_train, y_test = tf.keras.utils.to_categorical(y_train, 10), tf.keras.utils.to_categorical(y_test, 10)"
      ]
    },
    {
      "cell_type": "code",
      "execution_count": null,
      "metadata": {
        "id": "w_pLuCNjqvbf",
        "colab": {
          "base_uri": "https://localhost:8080/"
        },
        "outputId": "da4dadb9-2c5a-4953-8c5c-7439cf22404b"
      },
      "outputs": [
        {
          "output_type": "stream",
          "name": "stdout",
          "text": [
            "(50000, 10)\n",
            "(10000, 10)\n"
          ]
        }
      ],
      "source": [
        "# double check shape\n",
        "\n",
        "print(y_train.shape)\n",
        "print(y_test.shape)"
      ]
    },
    {
      "cell_type": "markdown",
      "metadata": {
        "id": "x-bzRNdjfOgy"
      },
      "source": [
        "###  Load the pre-trained VGG16 model"
      ]
    },
    {
      "cell_type": "code",
      "execution_count": null,
      "metadata": {
        "id": "4HLwE00VfOgz",
        "colab": {
          "base_uri": "https://localhost:8080/"
        },
        "outputId": "0b43f939-cb06-47d9-fdf3-e321fb885d33"
      },
      "outputs": [
        {
          "output_type": "stream",
          "name": "stdout",
          "text": [
            "Model: \"sequential\"\n",
            "_________________________________________________________________\n",
            " Layer (type)                Output Shape              Param #   \n",
            "=================================================================\n",
            " block1_conv1 (Conv2D)       (None, 64, 64, 64)        1792      \n",
            "                                                                 \n",
            " block1_conv2 (Conv2D)       (None, 64, 64, 64)        36928     \n",
            "                                                                 \n",
            " block1_pool (MaxPooling2D)  (None, 32, 32, 64)        0         \n",
            "                                                                 \n",
            " block2_conv1 (Conv2D)       (None, 32, 32, 128)       73856     \n",
            "                                                                 \n",
            " block2_conv2 (Conv2D)       (None, 32, 32, 128)       147584    \n",
            "                                                                 \n",
            " block2_pool (MaxPooling2D)  (None, 16, 16, 128)       0         \n",
            "                                                                 \n",
            " block3_conv1 (Conv2D)       (None, 16, 16, 256)       295168    \n",
            "                                                                 \n",
            " block3_conv2 (Conv2D)       (None, 16, 16, 256)       590080    \n",
            "                                                                 \n",
            " block3_conv3 (Conv2D)       (None, 16, 16, 256)       590080    \n",
            "                                                                 \n",
            " block3_pool (MaxPooling2D)  (None, 8, 8, 256)         0         \n",
            "                                                                 \n",
            " block4_conv1 (Conv2D)       (None, 8, 8, 512)         1180160   \n",
            "                                                                 \n",
            " block4_conv2 (Conv2D)       (None, 8, 8, 512)         2359808   \n",
            "                                                                 \n",
            " block4_conv3 (Conv2D)       (None, 8, 8, 512)         2359808   \n",
            "                                                                 \n",
            " block4_pool (MaxPooling2D)  (None, 4, 4, 512)         0         \n",
            "                                                                 \n",
            " block5_conv1 (Conv2D)       (None, 4, 4, 512)         2359808   \n",
            "                                                                 \n",
            " block5_conv2 (Conv2D)       (None, 4, 4, 512)         2359808   \n",
            "                                                                 \n",
            " block5_conv3 (Conv2D)       (None, 4, 4, 512)         2359808   \n",
            "                                                                 \n",
            " block5_pool (MaxPooling2D)  (None, 2, 2, 512)         0         \n",
            "                                                                 \n",
            "=================================================================\n",
            "Total params: 14,714,688\n",
            "Trainable params: 14,714,688\n",
            "Non-trainable params: 0\n",
            "_________________________________________________________________\n"
          ]
        }
      ],
      "source": [
        "from tensorflow.keras.applications.vgg16 import VGG16\n",
        "\n",
        "vgg_model = VGG16(weights='imagenet', include_top=False, input_shape=(64, 64, 3))   #  first hidden layer\n",
        "\n",
        "model_tl = Sequential()\n",
        "\n",
        "batch_size = 64\n",
        "\n",
        "for layer in vgg_model.layers:\n",
        "    model_tl.add(layer)\n",
        "    #print(layer)\n",
        "\n",
        "# print out the model summary\n",
        "model_tl.summary()\n"
      ]
    },
    {
      "cell_type": "code",
      "execution_count": null,
      "metadata": {
        "id": "X_oqboGwfOg1"
      },
      "outputs": [],
      "source": [
        "for layer in model_tl.layers:\n",
        "    layer.trainable = False\n",
        "    #print(layer)\n"
      ]
    },
    {
      "cell_type": "code",
      "execution_count": null,
      "metadata": {
        "id": "Fphbz0FhfOg3"
      },
      "outputs": [],
      "source": [
        "model_tl.add(Flatten())\n",
        "\n",
        "model_tl.add(Dense(256, activation='relu'))\n",
        "\n",
        "model_tl.add(Dense(10, activation='softmax'))\n"
      ]
    },
    {
      "cell_type": "markdown",
      "metadata": {
        "id": "sDOG92fcr1m8"
      },
      "source": [
        "###  Model compile, fit and training \n",
        "\n"
      ]
    },
    {
      "cell_type": "code",
      "execution_count": null,
      "metadata": {
        "id": "xWrWTc2JfOg6",
        "scrolled": false,
        "colab": {
          "base_uri": "https://localhost:8080/"
        },
        "outputId": "498cbdbd-c744-44a3-e7a6-a0c10fc4bb69"
      },
      "outputs": [
        {
          "output_type": "stream",
          "name": "stderr",
          "text": [
            "/usr/local/lib/python3.7/dist-packages/keras/optimizers/optimizer_v2/adam.py:110: UserWarning: The `lr` argument is deprecated, use `learning_rate` instead.\n",
            "  super(Adam, self).__init__(name, **kwargs)\n"
          ]
        },
        {
          "output_type": "stream",
          "name": "stdout",
          "text": [
            "Epoch 1/35\n",
            "547/547 - 30s - loss: 1.1535 - accuracy: 0.5995 - val_loss: 1.0080 - val_accuracy: 0.6513 - 30s/epoch - 54ms/step\n",
            "Epoch 2/35\n",
            "547/547 - 19s - loss: 0.9114 - accuracy: 0.6824 - val_loss: 0.9704 - val_accuracy: 0.6634 - 19s/epoch - 35ms/step\n",
            "Epoch 3/35\n",
            "547/547 - 19s - loss: 0.8179 - accuracy: 0.7143 - val_loss: 0.9177 - val_accuracy: 0.6820 - 19s/epoch - 34ms/step\n",
            "Epoch 4/35\n",
            "547/547 - 18s - loss: 0.7633 - accuracy: 0.7329 - val_loss: 0.9199 - val_accuracy: 0.6864 - 18s/epoch - 34ms/step\n",
            "Epoch 5/35\n",
            "547/547 - 19s - loss: 0.6965 - accuracy: 0.7532 - val_loss: 0.9209 - val_accuracy: 0.6866 - 19s/epoch - 34ms/step\n",
            "Epoch 6/35\n",
            "547/547 - 19s - loss: 0.6439 - accuracy: 0.7747 - val_loss: 0.9196 - val_accuracy: 0.6877 - 19s/epoch - 34ms/step\n",
            "Epoch 7/35\n",
            "547/547 - 19s - loss: 0.5943 - accuracy: 0.7921 - val_loss: 0.9519 - val_accuracy: 0.6897 - 19s/epoch - 34ms/step\n",
            "Epoch 8/35\n",
            "547/547 - 19s - loss: 0.5511 - accuracy: 0.8076 - val_loss: 0.9623 - val_accuracy: 0.6886 - 19s/epoch - 34ms/step\n",
            "Epoch 8: early stopping\n",
            "Elapsed time: 0:02:42.57\n"
          ]
        }
      ],
      "source": [
        "from tensorflow.keras.optimizers import Adam\n",
        "from tensorflow.keras.callbacks import EarlyStopping, ModelCheckpoint\n",
        "\n",
        "model_tl.compile(loss=tf.keras.losses.categorical_crossentropy, optimizer=Adam(lr=0.001, decay=1e-5), metrics=['accuracy'])\n",
        "\n",
        "monitor = EarlyStopping(monitor='val_loss', min_delta=1e-3, patience=5, verbose=1, mode='auto')\n",
        "\n",
        "checkpointer = ModelCheckpoint(filepath=\"dnn/best_weights.hdf5\", verbose=0, save_best_only=True)\n",
        "\n",
        "import time\n",
        "start_time = time.time()\n",
        "\n",
        "model_tl.fit(x_train_reshaped, y_train, batch_size=batch_size, epochs=35, verbose=2, \n",
        "              validation_data=(x_test_reshaped, y_test), callbacks=[monitor,checkpointer])\n",
        "\n",
        "elapsed_time = time.time() - start_time\n",
        "print(\"Elapsed time: {}\".format(hms_string(elapsed_time)))\n"
      ]
    },
    {
      "cell_type": "markdown",
      "metadata": {
        "id": "ps2CZ8Xwrz_a"
      },
      "source": [
        "### Precision, Recall, F1 score, and classification_report"
      ]
    },
    {
      "cell_type": "code",
      "execution_count": null,
      "metadata": {
        "id": "rMRuLfS3fOg8",
        "scrolled": true,
        "colab": {
          "base_uri": "https://localhost:8080/"
        },
        "outputId": "4fafe6ff-8f98-4600-e167-71ae82dc7657"
      },
      "outputs": [
        {
          "output_type": "stream",
          "name": "stdout",
          "text": [
            "Test loss: 0.9622797966003418\n",
            "Test accuracy: 0.6885714530944824\n",
            "219/219 [==============================] - 4s 16ms/step\n",
            "Accuracy: 0.6885714285714286\n",
            "Averaged F1: 0.685759878633234\n",
            "              precision    recall  f1-score   support\n",
            "\n",
            "           0       0.69      0.80      0.74       704\n",
            "           1       0.84      0.80      0.82       689\n",
            "           2       0.74      0.52      0.61       701\n",
            "           3       0.55      0.42      0.47       698\n",
            "           4       0.60      0.71      0.65       722\n",
            "           5       0.53      0.69      0.60       707\n",
            "           6       0.78      0.59      0.67       698\n",
            "           7       0.74      0.74      0.74       702\n",
            "           8       0.69      0.88      0.77       686\n",
            "           9       0.84      0.72      0.78       693\n",
            "\n",
            "    accuracy                           0.69      7000\n",
            "   macro avg       0.70      0.69      0.69      7000\n",
            "weighted avg       0.70      0.69      0.69      7000\n",
            "\n"
          ]
        }
      ],
      "source": [
        "from sklearn import metrics\n",
        "\n",
        "\n",
        "score = model_tl.evaluate(x_test_reshaped, y_test, verbose=0)\n",
        "\n",
        "print('Test loss: {}'.format(score[0]))\n",
        "print('Test accuracy: {}'.format(score[1]))\n",
        "\n",
        "y_true = np.argmax(y_test,axis=1)\n",
        "pred = model_tl.predict(x_test_reshaped)\n",
        "pred = np.argmax(pred,axis=1)\n",
        "\n",
        "score = metrics.accuracy_score(y_true, pred)\n",
        "print('Accuracy: {}'.format(score))\n",
        "\n",
        "f1 = metrics.f1_score(y_true, pred, average='weighted')\n",
        "print('Averaged F1: {}'.format(f1))\n",
        "           \n",
        "print(metrics.classification_report(y_true, pred))\n"
      ]
    },
    {
      "cell_type": "code",
      "execution_count": null,
      "metadata": {
        "id": "PoRepUWbd_ii",
        "colab": {
          "base_uri": "https://localhost:8080/",
          "height": 300
        },
        "outputId": "3ce3d3de-3ac2-4062-928b-31c12f036573"
      },
      "outputs": [
        {
          "output_type": "stream",
          "name": "stdout",
          "text": [
            "Image (#11): \n",
            "Predicted: horse || Actual: horse\n"
          ]
        },
        {
          "output_type": "display_data",
          "data": {
            "text/plain": [
              "<Figure size 432x288 with 1 Axes>"
            ],
            "image/png": "[encoded data removed]"
          },
          "metadata": {
            "needs_background": "light"
          }
        }
      ],
      "source": [
        "m = {0: 'frog', 1: 'cat', 2: 'dog', 3: 'automobile', 4: 'deer', 5: 'bird', 6: 'airplane', 7: 'truck', 8: 'ship', 9: 'horse'}\n",
        "\n",
        "s_img1, s_img2, s_img3, s_img4 = 11, 125, 3565, 9797\n",
        "img1, img2, img3, img4 = x_train[s_img1], x_train[s_img2], x_train[s_img3], x_train[s_img4]\n",
        "\n",
        "plt.imshow(img1)\n",
        "print(\"Image (#{}): \".format(s_img1))\n",
        "print(\"Predicted: {} || Actual: {}\".format(m.get(pred[s_img1]), m.get(y_true[s_img1])))\n"
      ]
    },
    {
      "cell_type": "code",
      "source": [
        "plt.imshow(img2)\n",
        "print(\"Image (#{}): \".format(s_img2))\n",
        "print(\"Predicted: {} || Actual: {}\".format(m.get(pred[s_img2]), m.get(y_true[s_img2])))"
      ],
      "metadata": {
        "colab": {
          "base_uri": "https://localhost:8080/",
          "height": 300
        },
        "id": "86F6g9VjEPDU",
        "outputId": "beb13fa4-3c1b-489a-c8eb-c84ce1e4629e"
      },
      "execution_count": null,
      "outputs": [
        {
          "output_type": "stream",
          "name": "stdout",
          "text": [
            "Image (#125): \n",
            "Predicted: ship || Actual: frog\n"
          ]
        },
        {
          "output_type": "display_data",
          "data": {
            "text/plain": [
              "<Figure size 432x288 with 1 Axes>"
            ],
            "image/png": "[encoded data removed]"
          },
          "metadata": {
            "needs_background": "light"
          }
        }
      ]
    },
    {
      "cell_type": "code",
      "source": [
        "plt.imshow(img3)\n",
        "print(\"Image (#{}): \".format(s_img3))\n",
        "print(\"Predicted: {} || Actual: {}\".format(m.get(pred[s_img3]), m.get(y_true[s_img3])))"
      ],
      "metadata": {
        "colab": {
          "base_uri": "https://localhost:8080/",
          "height": 300
        },
        "id": "TuCYp09QEPSa",
        "outputId": "4ff112e5-d92d-4aeb-a016-a39f101003da"
      },
      "execution_count": null,
      "outputs": [
        {
          "output_type": "stream",
          "name": "stdout",
          "text": [
            "Image (#3565): \n",
            "Predicted: cat || Actual: cat\n"
          ]
        },
        {
          "output_type": "display_data",
          "data": {
            "text/plain": [
              "<Figure size 432x288 with 1 Axes>"
            ],
            "image/png": "[encoded data removed]"
          },
          "metadata": {
            "needs_background": "light"
          }
        }
      ]
    }
  ],
  "metadata": {
    "accelerator": "GPU",
    "anaconda-cloud": {},
    "colab": {
      "provenance": [],
      "toc_visible": true
    },
    "kernelspec": {
      "display_name": "Python 3",
      "language": "python",
      "name": "python3"
    },
    "language_info": {
      "codemirror_mode": {
        "name": "ipython",
        "version": 3
      },
      "file_extension": ".py",
      "mimetype": "text/x-python",
      "name": "python",
      "nbconvert_exporter": "python",
      "pygments_lexer": "ipython3",
      "version": "3.8.8"
    },
    "gpuClass": "standard"
  },
  "nbformat": 4,
  "nbformat_minor": 0
}